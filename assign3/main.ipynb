{
 "cells": [
  {
   "cell_type": "code",
   "execution_count": 11,
   "metadata": {},
   "outputs": [],
   "source": [
    "import numpy as np"
   ]
  },
  {
   "cell_type": "code",
   "execution_count": 16,
   "metadata": {},
   "outputs": [],
   "source": [
    "d_path = './data/d2.txt'\n",
    "f = open(d_path,'r')"
   ]
  },
  {
   "cell_type": "code",
   "execution_count": 17,
   "metadata": {},
   "outputs": [],
   "source": [
    "numS = int(f.readline())\n",
    "numA = int(f.readline())\n",
    "gamm = float(f.readline())\n",
    "\n",
    "data = f.readlines()"
   ]
  },
  {
   "cell_type": "code",
   "execution_count": 18,
   "metadata": {
    "scrolled": true
   },
   "outputs": [],
   "source": [
    "data = [x.split() for x in data ]\n",
    "# data"
   ]
  },
  {
   "cell_type": "code",
   "execution_count": 19,
   "metadata": {},
   "outputs": [],
   "source": [
    "N = 0\n",
    "S = []\n",
    "A = []\n",
    "R = []\n",
    "for x in data[:-1]:\n",
    "    N = N + 1\n",
    "    S.append(int(x[0]))\n",
    "    A.append(int(x[1]))\n",
    "    R.append(float(x[2]))\n",
    "\n",
    "S.append(int(data[-1][0]))"
   ]
  },
  {
   "cell_type": "code",
   "execution_count": 20,
   "metadata": {},
   "outputs": [
    {
     "data": {
      "text/plain": [
       "(100001, 100000)"
      ]
     },
     "execution_count": 20,
     "metadata": {},
     "output_type": "execute_result"
    }
   ],
   "source": [
    "len(S) , N"
   ]
  },
  {
   "cell_type": "code",
   "execution_count": 21,
   "metadata": {},
   "outputs": [],
   "source": [
    "# TDLambda():\n",
    "e = np.zeros(numS,)\n",
    "V = np.zeros(numS,)\n",
    "alph = 0.01\n",
    "lambd = 0.5\n",
    "for episod in range(N):\n",
    "    d = R[episod] + (gamm * V[S[episod+1]]) - V[S[episod]]\n",
    "    e[S[episod]] += 1\n",
    "    V = V + (alph*d*e)\n",
    "    e = gamm*lambd*e\n"
   ]
  },
  {
   "cell_type": "code",
   "execution_count": 23,
   "metadata": {},
   "outputs": [
    {
     "name": "stdout",
     "output_type": "stream",
     "text": [
      "0.6619464133332317\n",
      "0.7223920370834823\n",
      "0.7961689775044792\n",
      "0.7893513284858055\n",
      "0.5783364768739728\n",
      "0.5519991868397547\n"
     ]
    }
   ],
   "source": [
    "for i in range(numS):\n",
    "    print(V[i])"
   ]
  },
  {
   "cell_type": "code",
   "execution_count": 12,
   "metadata": {},
   "outputs": [
    {
     "data": {
      "text/plain": [
       "array([0., 0., 0., 0., 0.])"
      ]
     },
     "execution_count": 12,
     "metadata": {},
     "output_type": "execute_result"
    }
   ],
   "source": [
    "np.zeros(5,)"
   ]
  },
  {
   "cell_type": "code",
   "execution_count": null,
   "metadata": {},
   "outputs": [],
   "source": []
  }
 ],
 "metadata": {
  "kernelspec": {
   "display_name": "Python [conda env:tf_gpu]",
   "language": "python",
   "name": "conda-env-tf_gpu-py"
  },
  "language_info": {
   "codemirror_mode": {
    "name": "ipython",
    "version": 3
   },
   "file_extension": ".py",
   "mimetype": "text/x-python",
   "name": "python",
   "nbconvert_exporter": "python",
   "pygments_lexer": "ipython3",
   "version": "3.7.3"
  }
 },
 "nbformat": 4,
 "nbformat_minor": 2
}
